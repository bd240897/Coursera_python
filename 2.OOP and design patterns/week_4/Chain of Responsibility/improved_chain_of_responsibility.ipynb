{
 "cells": [
  {
   "cell_type": "markdown",
   "metadata": {},
   "source": [
    "# Паттерн \"Цепочка обязанностей\""
   ]
  },
  {
   "cell_type": "markdown",
   "metadata": {},
   "source": [
    "## 1. Объявление возможных типов событий"
   ]
  },
  {
   "cell_type": "code",
   "execution_count": 1,
   "metadata": {
    "collapsed": true
   },
   "outputs": [],
   "source": [
    "QUEST_SPEAK, QUEST_HUNT, QUEST_CARRY = \"QSPEAK\", \"QHUNT\", \"QCARRY\""
   ]
  },
  {
   "cell_type": "markdown",
   "metadata": {},
   "source": [
    "## 2. Описание персонажа\n",
    "\n",
    "Опишем персонажа, который будет взаимодействовать с цепочкой обязанностей"
   ]
  },
  {
   "cell_type": "code",
   "execution_count": 2,
   "metadata": {
    "collapsed": true
   },
   "outputs": [],
   "source": [
    "class Character:\n",
    "    \n",
    "    def __init__(self):\n",
    "        self.name = \"Nagibator\"\n",
    "        self.xp = 0\n",
    "        self.passed_quests = set()\n",
    "        self.taken_quests = set()"
   ]
  },
  {
   "cell_type": "markdown",
   "metadata": {},
   "source": [
    "## 3. Опишем класс события\n",
    "\n",
    "При возникновении определенного события запускается цепочка обязанностей, которая может это событие обрабатывать."
   ]
  },
  {
   "cell_type": "code",
   "execution_count": 3,
   "metadata": {
    "collapsed": true
   },
   "outputs": [],
   "source": [
    "class Event:\n",
    "    \n",
    "    def __init__(self, kind):\n",
    "        self.kind = kind   "
   ]
  },
  {
   "cell_type": "markdown",
   "metadata": {},
   "source": [
    "## 4. Опишем базовое звено цепочки обязанностей\n",
    "\n",
    "Элементарный обработчик просто передает событие следующему звену цепочки, если таковое имеется."
   ]
  },
  {
   "cell_type": "code",
   "execution_count": 4,
   "metadata": {
    "collapsed": true
   },
   "outputs": [],
   "source": [
    "class NullHandler:\n",
    "    \n",
    "    def __init__(self, successor=None):\n",
    "        self.__successor = successor\n",
    "\n",
    "    def handle(self, char, event):\n",
    "        if self.__successor is not None:\n",
    "            self.__successor.handle(char, event)"
   ]
  },
  {
   "cell_type": "markdown",
   "metadata": {},
   "source": [
    "## 5. Опишем обработчики квестов\n",
    "\n",
    "Для каждого квеста напишем обработчик и определим событие, при котором этот обработчик будет срабатывать."
   ]
  },
  {
   "cell_type": "code",
   "execution_count": 5,
   "metadata": {
    "collapsed": true
   },
   "outputs": [],
   "source": [
    "class HandleQSpeak(NullHandler):\n",
    "    \n",
    "    def handle(self, char, event):\n",
    "        if event.kind == QUEST_SPEAK:\n",
    "            xp = 100\n",
    "            quest_name = \"Поговорить с фермером\"\n",
    "            if event.kind not in (char.passed_quests | char.taken_quests):\n",
    "                print(f\"Квест получен: \\\"{quest_name}\\\"\")\n",
    "                char.taken_quests.add(event.kind)\n",
    "            elif event.kind in char.taken_quests:\n",
    "                print(f\"Квест сдан: \\\"{quest_name}\\\"\")\n",
    "                char.passed_quests.add(event.kind)\n",
    "                char.taken_quests.remove(event.kind)\n",
    "                char.xp += xp\n",
    "        else:\n",
    "            print(\"Передаю обработку дальше\")\n",
    "            super().handle(char, event)\n",
    "        \n",
    "        \n",
    "class HandleQHunt(NullHandler):\n",
    "    \n",
    "    def handle(self, char, event):\n",
    "        if event.kind == QUEST_HUNT:\n",
    "            xp = 300\n",
    "            quest_name = \"Охота на крыс\"\n",
    "            if event.kind not in (char.passed_quests | char.taken_quests):\n",
    "                print(f\"Квест получен: \\\"{quest_name}\\\"\")\n",
    "                char.taken_quests.add(event.kind)\n",
    "            elif event.kind in char.taken_quests:\n",
    "                print(f\"Квест сдан: \\\"{quest_name}\\\"\")\n",
    "                char.passed_quests.add(event.kind)\n",
    "                char.taken_quests.remove(event.kind)\n",
    "                char.xp += xp\n",
    "        else:\n",
    "            print(\"Передаю обработку дальше\")\n",
    "            super().handle(char, event)\n",
    "        \n",
    "        \n",
    "class HandleQCarry(NullHandler):\n",
    "    \n",
    "    def handle(self, char, event):\n",
    "        if event.kind == QUEST_CARRY:\n",
    "            xp = 200\n",
    "            quest_name = \"Принести дрова из сарая\"\n",
    "            if event.kind not in (char.passed_quests | char.taken_quests):\n",
    "                print(f\"Квест получен: \\\"{quest_name}\\\"\")\n",
    "                char.taken_quests.add(event.kind)\n",
    "            elif event.kind in char.taken_quests:\n",
    "                print(f\"Квест сдан: \\\"{quest_name}\\\"\")\n",
    "                char.passed_quests.add(event.kind)\n",
    "                char.taken_quests.remove(event.kind)\n",
    "                char.xp += xp\n",
    "        else:\n",
    "            print(\"Передаю обработку дальше\")\n",
    "            super().handle(char, event)"
   ]
  },
  {
   "cell_type": "markdown",
   "metadata": {},
   "source": [
    "## 6. Опишем квестгивера\n",
    "\n",
    "Квестгивер будет хранить цепочку обработчиков и список событий, на которые он может реагировать. Список событий можно пополнять.\n",
    "\n",
    "Метод `handle_quests` генерирует все доступные события и передает их на обработку цепочке."
   ]
  },
  {
   "cell_type": "code",
   "execution_count": 6,
   "metadata": {
    "collapsed": true
   },
   "outputs": [],
   "source": [
    "class QuestGiver:\n",
    "    \n",
    "    def __init__(self):\n",
    "        self.handlers = HandleQSpeak(HandleQHunt(HandleQCarry(NullHandler())))\n",
    "        self.events = []\n",
    "\n",
    "    def add_event(self, event):\n",
    "        self.events.append(event)\n",
    "\n",
    "    def handle_quests(self, char):\n",
    "        for event in self.events:\n",
    "            self.handlers.handle(char, event)"
   ]
  },
  {
   "cell_type": "markdown",
   "metadata": {},
   "source": [
    "## 7. Создадим квестгивера и дадим ему все возможные события\n"
   ]
  },
  {
   "cell_type": "code",
   "execution_count": 7,
   "metadata": {
    "collapsed": true
   },
   "outputs": [],
   "source": [
    "events = [Event(QUEST_CARRY), Event(QUEST_HUNT), Event(QUEST_SPEAK)]\n",
    "\n",
    "quest_giver = QuestGiver()\n",
    "\n",
    "for event in events:\n",
    "    quest_giver.add_event(event)"
   ]
  },
  {
   "cell_type": "markdown",
   "metadata": {},
   "source": [
    "## 8. Проверим работы цепочки обязанностейй на примере, аналогичном предыдущему"
   ]
  },
  {
   "cell_type": "code",
   "execution_count": 8,
   "metadata": {},
   "outputs": [
    {
     "name": "stdout",
     "output_type": "stream",
     "text": [
      "Передаю обработку дальше\n",
      "Передаю обработку дальше\n",
      "Квест получен: \"Принести дрова из сарая\"\n",
      "Передаю обработку дальше\n",
      "Квест получен: \"Охота на крыс\"\n",
      "Квест получен: \"Поговорить с фермером\"\n",
      "\n",
      "Передаю обработку дальше\n",
      "Передаю обработку дальше\n",
      "Квест сдан: \"Принести дрова из сарая\"\n",
      "Передаю обработку дальше\n",
      "Квест получен: \"Охота на крыс\"\n",
      "Квест сдан: \"Поговорить с фермером\"\n",
      "\n",
      "Передаю обработку дальше\n",
      "Передаю обработку дальше\n",
      "Передаю обработку дальше\n",
      "Квест сдан: \"Охота на крыс\"\n"
     ]
    }
   ],
   "source": [
    "player = Character()\n",
    "\n",
    "quest_giver.handle_quests(player)\n",
    "print()\n",
    "player.taken_quests = {QUEST_CARRY, QUEST_SPEAK}\n",
    "quest_giver.handle_quests(player)\n",
    "print()\n",
    "quest_giver.handle_quests(player)"
   ]
  },
  {
   "cell_type": "markdown",
   "metadata": {
    "collapsed": true
   },
   "source": [
    "Видно, что цепочка обязанностей работает, и квесты, обработка которых невозможна на данном этапе, передаются по ней дальше"
   ]
  },
  {
   "cell_type": "code",
   "execution_count": 4,
   "metadata": {},
   "outputs": [],
   "source": [
    "class SomeObject:\n",
    "    def __init__(self):\n",
    "        self.integer_field = 0\n",
    "        self.float_field = 0.0\n",
    "        self.string_field = \"\""
   ]
  },
  {
   "cell_type": "code",
   "execution_count": 6,
   "metadata": {},
   "outputs": [
    {
     "ename": "TypeError",
     "evalue": "__init__() missing 1 required positional argument: 'event'",
     "output_type": "error",
     "traceback": [
      "\u001b[1;31m---------------------------------------------------------------------------\u001b[0m",
      "\u001b[1;31mTypeError\u001b[0m                                 Traceback (most recent call last)",
      "\u001b[1;32m<ipython-input-6-60dc243da337>\u001b[0m in \u001b[0;36m<module>\u001b[1;34m\u001b[0m\n\u001b[0;32m     42\u001b[0m             \u001b[0msuper\u001b[0m\u001b[1;33m(\u001b[0m\u001b[1;33m)\u001b[0m\u001b[1;33m.\u001b[0m\u001b[0mhandle\u001b[0m\u001b[1;33m(\u001b[0m\u001b[0mchar\u001b[0m\u001b[1;33m,\u001b[0m \u001b[0mevent\u001b[0m\u001b[1;33m)\u001b[0m\u001b[1;33m\u001b[0m\u001b[1;33m\u001b[0m\u001b[0m\n\u001b[0;32m     43\u001b[0m \u001b[1;33m\u001b[0m\u001b[0m\n\u001b[1;32m---> 44\u001b[1;33m \u001b[0mchain\u001b[0m \u001b[1;33m=\u001b[0m \u001b[0mIntHandler\u001b[0m\u001b[1;33m(\u001b[0m\u001b[0mFloatHandler\u001b[0m\u001b[1;33m(\u001b[0m\u001b[0mStrHandler\u001b[0m\u001b[1;33m(\u001b[0m\u001b[0mNullHandler\u001b[0m\u001b[1;33m)\u001b[0m\u001b[1;33m)\u001b[0m\u001b[1;33m)\u001b[0m\u001b[1;33m\u001b[0m\u001b[1;33m\u001b[0m\u001b[0m\n\u001b[0m",
      "\u001b[1;31mTypeError\u001b[0m: __init__() missing 1 required positional argument: 'event'"
     ]
    }
   ],
   "source": [
    "from abc import ABC\n",
    "\n",
    "\n",
    "class EventGet():\n",
    "    def __init__(self, event_type):\n",
    "        self.event_type = event_type\n",
    "        \n",
    "class EventSet():\n",
    "    pass \n",
    "\n",
    "\n",
    "class NullHandler():\n",
    "    def __init__(self, obj, event):\n",
    "        self.__obj = obj\n",
    "        self.event = event\n",
    "        \n",
    "    def handle(obj, event):\n",
    "        pass\n",
    "\n",
    "class IntHandler(NullHandler):\n",
    "    def handle(obj):       \n",
    "        if isinstance(self.event, EventGet):\n",
    "            if isinstance(self.event.event_type, int):\n",
    "                return obj.integer_field\n",
    "        else:\n",
    "            super().handle(char, event)\n",
    "    \n",
    "class FloatHandler(NullHandler):\n",
    "    def handle(obj):       \n",
    "        if isinstance(self.event, EventGet):\n",
    "            if isinstance(self.event.event_type, float):\n",
    "                return obj.float_field\n",
    "        else:\n",
    "            super().handle(char, event)\n",
    "\n",
    "class StrHandler(NullHandler):\n",
    "    def handle(obj, event):       \n",
    "        if isinstance(self.event, EventGet):\n",
    "            if isinstance(self.event.event_type, str):\n",
    "                return obj.string_field\n",
    "        else:\n",
    "            super().handle(char, event)\n",
    "\n",
    "chain = IntHandler(FloatHandler(StrHandler(NullHandler)))"
   ]
  },
  {
   "cell_type": "code",
   "execution_count": 7,
   "metadata": {},
   "outputs": [
    {
     "ename": "TypeError",
     "evalue": "handle() takes 2 positional arguments but 3 were given",
     "output_type": "error",
     "traceback": [
      "\u001b[1;31m---------------------------------------------------------------------------\u001b[0m",
      "\u001b[1;31mTypeError\u001b[0m                                 Traceback (most recent call last)",
      "\u001b[1;32m<ipython-input-7-c4bab9cdf5e7>\u001b[0m in \u001b[0;36m<module>\u001b[1;34m\u001b[0m\n\u001b[0;32m      1\u001b[0m \u001b[0mobj\u001b[0m \u001b[1;33m=\u001b[0m \u001b[0mSomeObject\u001b[0m\u001b[1;33m(\u001b[0m\u001b[1;33m)\u001b[0m\u001b[1;33m\u001b[0m\u001b[1;33m\u001b[0m\u001b[0m\n\u001b[1;32m----> 2\u001b[1;33m \u001b[0mchain\u001b[0m\u001b[1;33m.\u001b[0m\u001b[0mhandle\u001b[0m\u001b[1;33m(\u001b[0m\u001b[0mobj\u001b[0m\u001b[1;33m,\u001b[0m \u001b[0mEventGet\u001b[0m\u001b[1;33m(\u001b[0m\u001b[0mint\u001b[0m\u001b[1;33m)\u001b[0m\u001b[1;33m)\u001b[0m\u001b[1;33m\u001b[0m\u001b[1;33m\u001b[0m\u001b[0m\n\u001b[0m",
      "\u001b[1;31mTypeError\u001b[0m: handle() takes 2 positional arguments but 3 were given"
     ]
    }
   ],
   "source": [
    "obj = SomeObject()\n",
    "chain.handle(obj, EventGet(int))"
   ]
  },
  {
   "cell_type": "code",
   "execution_count": null,
   "metadata": {},
   "outputs": [],
   "source": [
    "chain.handle(obj, EventGet(int)) — вернуть значение obj.integer_field\n",
    "\n",
    "chain.handle(obj, EventGet(str)) — вернуть значение obj.string_field\n",
    "\n",
    "chain.handle(obj, EventGet(float)) — вернуть значение obj.float_field\n",
    "\n",
    "chain.handle(obj, EventSet(1)) — установить значение obj.integer_field =1\n",
    "\n",
    "chain.handle(obj, EventSet(1.1)) — установить значение obj.float_field = 1.1\n",
    "\n",
    "chain.handle(obj, EventSet(\"str\")) — установить значение obj.string_field = \"str\""
   ]
  }
 ],
 "metadata": {
  "kernelspec": {
   "display_name": "Python 3",
   "language": "python",
   "name": "python3"
  },
  "language_info": {
   "codemirror_mode": {
    "name": "ipython",
    "version": 3
   },
   "file_extension": ".py",
   "mimetype": "text/x-python",
   "name": "python",
   "nbconvert_exporter": "python",
   "pygments_lexer": "ipython3",
   "version": "3.8.8"
  }
 },
 "nbformat": 4,
 "nbformat_minor": 2
}
